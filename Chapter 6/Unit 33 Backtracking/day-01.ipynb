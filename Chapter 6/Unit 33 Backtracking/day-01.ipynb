{
 "cells": [
  {
   "cell_type": "markdown",
   "id": "66eeac10",
   "metadata": {},
   "source": [
    "## 1. N-Queens Problem with Backtracking\n",
    "#### 1.2. Implementation and Coding\n",
    "The implementation of the promising function should check whether the i-th column is promising in the given col list."
   ]
  },
  {
   "cell_type": "code",
   "execution_count": 2,
   "id": "cfb70625",
   "metadata": {},
   "outputs": [],
   "source": [
    "def promising(i, col):\n",
    "    for k in range(i):\n",
    "        if col[i] == col[k] or abs(col[i] - col[k] == (i - k)):\n",
    "            return False\n",
    "    return True"
   ]
  },
  {
   "cell_type": "markdown",
   "id": "29c47c8f",
   "metadata": {},
   "source": [
    "- **Line 1-2 on code above**\n",
    "    - Given a col list and index i as input parameters, check whether the i-th column is promising.\n",
    "    - The row on which the queen is already placed is the 0th to i-1st branch, so it traverses the for loop from 0 to i-1.\n",
    "- **Line 3-5 on code above**\n",
    "    - For each index k, check whether there are already different queens in the same column, or whether there are different queens on the diagonal.\n",
    "    - If there is a queen in the same column or in its diagonal, return False. Otherwise, return True."
   ]
  },
  {
   "cell_type": "code",
   "execution_count": 3,
   "id": "1458b6c0",
   "metadata": {},
   "outputs": [],
   "source": [
    "def n_queens(i, col):\n",
    "    if promising(i, col):\n",
    "        if i == len(col) - 1:\n",
    "            print(col)\n",
    "        else:\n",
    "            for j in range(len(col)):\n",
    "                col[i + 1] = j\n",
    "                n_queens(i + 1, col)"
   ]
  },
  {
   "cell_type": "code",
   "execution_count": 4,
   "id": "4e5f6566",
   "metadata": {},
   "outputs": [
    {
     "name": "stdout",
     "output_type": "stream",
     "text": [
      "Input the number of queens: 4\n",
      "[1, 3, 0, 2]\n",
      "[1, 3, 2, 0]\n",
      "[2, 0, 3, 1]\n",
      "[2, 1, 3, 0]\n",
      "[3, 0, 2, 1]\n",
      "[3, 1, 0, 2]\n",
      "[3, 2, 1, 0]\n"
     ]
    }
   ],
   "source": [
    "N = int(input(\"Input the number of queens: \"))\n",
    "n_queens(-1, [-1] * N)"
   ]
  },
  {
   "cell_type": "code",
   "execution_count": null,
   "id": "c517c978",
   "metadata": {},
   "outputs": [],
   "source": []
  }
 ],
 "metadata": {
  "kernelspec": {
   "display_name": "Python 3 (ipykernel)",
   "language": "python",
   "name": "python3"
  },
  "language_info": {
   "codemirror_mode": {
    "name": "ipython",
    "version": 3
   },
   "file_extension": ".py",
   "mimetype": "text/x-python",
   "name": "python",
   "nbconvert_exporter": "python",
   "pygments_lexer": "ipython3",
   "version": "3.9.12"
  }
 },
 "nbformat": 4,
 "nbformat_minor": 5
}
