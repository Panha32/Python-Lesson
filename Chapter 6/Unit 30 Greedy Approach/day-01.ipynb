{
 "cells": [
  {
   "cell_type": "markdown",
   "id": "dc2a2a1b",
   "metadata": {},
   "source": [
    "# Let's code\n",
    "### 1. Greedy Approach\n",
    "#### 1.1. Implementation and Coding\n",
    "<ul>\n",
    "    <li>Let's write an algorithm to solve the coin exchange problem.</li>\n",
    "    <li>The input of algorithm is the coin type and the amount of change, and the output is a list of coins.</li>\n",
    "    <li>At this time, suppose that the amount of coins is given in descending order.</li>\n",
    "</ul>"
   ]
  },
  {
   "cell_type": "code",
   "execution_count": 1,
   "id": "dac23a61",
   "metadata": {},
   "outputs": [],
   "source": [
    "def coin_change(coins, amount):\n",
    "    changes = []\n",
    "    largest = 0\n",
    "    while amount > 0:\n",
    "        if amount < coins[largest]:\n",
    "            largest += 1\n",
    "        else:\n",
    "            changes.append(coins[largest])\n",
    "            amount -= coins[largest]     \n",
    "    return changes"
   ]
  },
  {
   "cell_type": "markdown",
   "id": "ddd60dcd",
   "metadata": {},
   "source": [
    "#### 1.2 Running the Code\n",
    "<ul>\n",
    "    <li>The algorithm implemented earlier operates as follows.</li>\n",
    "    <li>The list and number of coins are the output for the amount of change received from the user.</li>\n",
    "    <li>At this time, it is assumed that the input value is an amount that can make change from a set of coins.</li>\n",
    "</ul>"
   ]
  },
  {
   "cell_type": "code",
   "execution_count": 9,
   "id": "0c02246e",
   "metadata": {},
   "outputs": [
    {
     "name": "stdout",
     "output_type": "stream",
     "text": [
      "Input the amount: 200\n",
      "[200] 1\n"
     ]
    }
   ],
   "source": [
    "coins = [500, 100, 50, 10]\n",
    "amount = int(input(\"Input the amount: \"))\n",
    "changes = coin_change(coins, amount)\n",
    "print(changes, len(changes))"
   ]
  },
  {
   "cell_type": "markdown",
   "id": "cc5f6ed8",
   "metadata": {},
   "source": [
    "Implement coding with extra condition"
   ]
  },
  {
   "cell_type": "code",
   "execution_count": 6,
   "id": "5dbcef22",
   "metadata": {},
   "outputs": [
    {
     "name": "stdout",
     "output_type": "stream",
     "text": [
      "Input the amount: 101\n",
      "Cannot make change for this amount with the available coins. 60\n"
     ]
    }
   ],
   "source": [
    "def coin_change(coins, amount):\n",
    "    changes = []\n",
    "    largest = 0\n",
    "    \n",
    "    # Check if the amount is less than the smallest coin\n",
    "    if amount < min(coins):\n",
    "        return \"Cannot make change for this amount with the available coins.\"\n",
    "\n",
    "    while amount > 0:\n",
    "        if largest >= len(coins):\n",
    "            return \"Cannot make change for this amount with the available coins.\"\n",
    "        \n",
    "        if amount < coins[largest]:\n",
    "            largest += 1\n",
    "        else:\n",
    "            changes.append(coins[largest])\n",
    "            amount -= coins[largest]     \n",
    "            \n",
    "    return changes\n",
    "\n",
    "coins = [500, 100, 50, 10]\n",
    "amount = int(input(\"Input the amount: \"))\n",
    "\n",
    "changes = coin_change(coins, amount)\n",
    "print(changes, len(changes))\n"
   ]
  },
  {
   "cell_type": "code",
   "execution_count": null,
   "id": "5893de84",
   "metadata": {},
   "outputs": [],
   "source": []
  }
 ],
 "metadata": {
  "kernelspec": {
   "display_name": "Python 3 (ipykernel)",
   "language": "python",
   "name": "python3"
  },
  "language_info": {
   "codemirror_mode": {
    "name": "ipython",
    "version": 3
   },
   "file_extension": ".py",
   "mimetype": "text/x-python",
   "name": "python",
   "nbconvert_exporter": "python",
   "pygments_lexer": "ipython3",
   "version": "3.9.12"
  }
 },
 "nbformat": 4,
 "nbformat_minor": 5
}
