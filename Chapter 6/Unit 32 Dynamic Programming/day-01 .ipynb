{
 "cells": [
  {
   "cell_type": "markdown",
   "id": "c8909071",
   "metadata": {},
   "source": [
    "## 1. Dynamic Programming\n",
    "#### 1.2. n-th fibonacci Term with Memoization\n",
    "When calling the fib3() function, the list F, which stores the value of the uncalculated term as -1, must be given as the input."
   ]
  },
  {
   "cell_type": "code",
   "execution_count": 1,
   "id": "7af76ceb",
   "metadata": {},
   "outputs": [],
   "source": [
    "def fib3(F, n):\n",
    "    if n <= 1:\n",
    "        return F[n]\n",
    "    else:\n",
    "        if F[n] < 0:\n",
    "            F[n] = fib3(F, n - 1) + fib3(F, n - 2)\n",
    "        return F[n]"
   ]
  },
  {
   "cell_type": "code",
   "execution_count": 3,
   "id": "ba11c441",
   "metadata": {},
   "outputs": [
    {
     "name": "stdout",
     "output_type": "stream",
     "text": [
      "Input a number: 20\n",
      "6765\n"
     ]
    }
   ],
   "source": [
    "N = int(input(\"Input a number: \"))\n",
    "F = [0, 1] + [-1] * (N - 1)\n",
    "print(fib3(F, N))"
   ]
  },
  {
   "cell_type": "markdown",
   "id": "31c5de13",
   "metadata": {},
   "source": [
    "#### 1.3. Pascal's Triangle by Recursion"
   ]
  },
  {
   "cell_type": "code",
   "execution_count": 8,
   "id": "c75a2636",
   "metadata": {},
   "outputs": [],
   "source": [
    "def bin1(n, k):\n",
    "    if k == 0 or n == k:\n",
    "        return 1\n",
    "    else: \n",
    "        return bin1(n - 1, k - 1) + bin1(n - 1, k)"
   ]
  },
  {
   "cell_type": "code",
   "execution_count": 9,
   "id": "82ca15cf",
   "metadata": {},
   "outputs": [
    {
     "name": "stdout",
     "output_type": "stream",
     "text": [
      " Input the value of n: 5\n",
      " Input the value of k: 3\n",
      "binomial(5, 3) is 10\n"
     ]
    }
   ],
   "source": [
    "n = int(input(\" Input the value of n: \"))\n",
    "k = int(input(\" Input the value of k: \"))\n",
    "print(f\"binomial({n}, {k}) is {bin1(n, k)}\")"
   ]
  },
  {
   "cell_type": "markdown",
   "id": "6db08b23",
   "metadata": {},
   "source": [
    "#### 1.4. Pascal's Triangle by Dynamic Programming\n",
    "By receiving values of n and k from the user, binomial coefficients bin(n, k) may be output as shown below."
   ]
  },
  {
   "cell_type": "code",
   "execution_count": 10,
   "id": "178d0807",
   "metadata": {},
   "outputs": [],
   "source": [
    "def bin2(n, k):\n",
    "    B = [[0] * (i + 1) for i in range(n + 1)]\n",
    "    for i in range(n + 1):\n",
    "        for j in range(i + 1):\n",
    "            if j == 0 or j == i:\n",
    "                B[i][j] = 1\n",
    "            else:\n",
    "                B[i][j] = B[i - 1][j - 1] + B[i - 1][j]\n",
    "            return B[n][k]"
   ]
  },
  {
   "cell_type": "code",
   "execution_count": 12,
   "id": "1b553dd1",
   "metadata": {},
   "outputs": [
    {
     "name": "stdout",
     "output_type": "stream",
     "text": [
      "Input the value of n: 0\n",
      "Input the value of k: 1\n"
     ]
    },
    {
     "ename": "IndexError",
     "evalue": "list index out of range",
     "output_type": "error",
     "traceback": [
      "\u001b[1;31m---------------------------------------------------------------------------\u001b[0m",
      "\u001b[1;31mIndexError\u001b[0m                                Traceback (most recent call last)",
      "Input \u001b[1;32mIn [12]\u001b[0m, in \u001b[0;36m<cell line: 3>\u001b[1;34m()\u001b[0m\n\u001b[0;32m      1\u001b[0m n \u001b[38;5;241m=\u001b[39m \u001b[38;5;28mint\u001b[39m(\u001b[38;5;28minput\u001b[39m(\u001b[38;5;124m\"\u001b[39m\u001b[38;5;124mInput the value of n: \u001b[39m\u001b[38;5;124m\"\u001b[39m))\n\u001b[0;32m      2\u001b[0m k \u001b[38;5;241m=\u001b[39m \u001b[38;5;28mint\u001b[39m(\u001b[38;5;28minput\u001b[39m(\u001b[38;5;124m\"\u001b[39m\u001b[38;5;124mInput the value of k: \u001b[39m\u001b[38;5;124m\"\u001b[39m))\n\u001b[1;32m----> 3\u001b[0m \u001b[38;5;28mprint\u001b[39m(\u001b[38;5;124mf\u001b[39m\u001b[38;5;124m\"\u001b[39m\u001b[38;5;124mbinomial(\u001b[39m\u001b[38;5;132;01m{\u001b[39;00mn\u001b[38;5;132;01m}\u001b[39;00m\u001b[38;5;124m, \u001b[39m\u001b[38;5;132;01m{\u001b[39;00mk\u001b[38;5;132;01m}\u001b[39;00m\u001b[38;5;124m) is \u001b[39m\u001b[38;5;132;01m{\u001b[39;00mbin2(n, k)\u001b[38;5;132;01m}\u001b[39;00m\u001b[38;5;124m\"\u001b[39m)\n",
      "Input \u001b[1;32mIn [10]\u001b[0m, in \u001b[0;36mbin2\u001b[1;34m(n, k)\u001b[0m\n\u001b[0;32m      7\u001b[0m \u001b[38;5;28;01melse\u001b[39;00m:\n\u001b[0;32m      8\u001b[0m     B[i][j] \u001b[38;5;241m=\u001b[39m B[i \u001b[38;5;241m-\u001b[39m \u001b[38;5;241m1\u001b[39m][j \u001b[38;5;241m-\u001b[39m \u001b[38;5;241m1\u001b[39m] \u001b[38;5;241m+\u001b[39m B[i \u001b[38;5;241m-\u001b[39m \u001b[38;5;241m1\u001b[39m][j]\n\u001b[1;32m----> 9\u001b[0m \u001b[38;5;28;01mreturn\u001b[39;00m \u001b[43mB\u001b[49m\u001b[43m[\u001b[49m\u001b[43mn\u001b[49m\u001b[43m]\u001b[49m\u001b[43m[\u001b[49m\u001b[43mk\u001b[49m\u001b[43m]\u001b[49m\n",
      "\u001b[1;31mIndexError\u001b[0m: list index out of range"
     ]
    }
   ],
   "source": [
    "n = int(input(\"Input the value of n: \"))\n",
    "k = int(input(\"Input the value of k: \"))\n",
    "print(f\"binomial({n}, {k}) is {bin2(n, k)}\")"
   ]
  },
  {
   "cell_type": "code",
   "execution_count": null,
   "id": "15e53741",
   "metadata": {},
   "outputs": [],
   "source": []
  }
 ],
 "metadata": {
  "kernelspec": {
   "display_name": "Python 3 (ipykernel)",
   "language": "python",
   "name": "python3"
  },
  "language_info": {
   "codemirror_mode": {
    "name": "ipython",
    "version": 3
   },
   "file_extension": ".py",
   "mimetype": "text/x-python",
   "name": "python",
   "nbconvert_exporter": "python",
   "pygments_lexer": "ipython3",
   "version": "3.9.12"
  }
 },
 "nbformat": 4,
 "nbformat_minor": 5
}
